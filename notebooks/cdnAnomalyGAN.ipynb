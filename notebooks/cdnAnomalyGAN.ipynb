{
 "cells": [
  {
   "cell_type": "code",
   "execution_count": 1,
   "metadata": {},
   "outputs": [],
   "source": [
    "import pandas as pd\n",
    "import numpy as np\n",
    "import matplotlib.pyplot as plt\n",
    "import plotly.express as px\n",
    "import plotly.offline as pyo\n",
    "import torch\n",
    "import sys\n",
    "\n",
    "sys.path.append(\"../anomalyGAN/code\")\n",
    "\n",
    "from anomalyGAN import *\n",
    "from anomalyDetector_lib import *"
   ]
  },
  {
   "cell_type": "code",
   "execution_count": 3,
   "metadata": {},
   "outputs": [],
   "source": [
    "def extract_anomal_data(time_series, meta_information, length, skip_points=1):\n",
    "    \n",
    "    complete_length = time_series.shape[0]\n",
    "    \n",
    "    return_array = []\n",
    "    \n",
    "    return_meta_information = []\n",
    "    \n",
    "    for i in range(0, int((complete_length-length)/skip_points)):\n",
    "        \n",
    "        return_array.append(time_series[i:i+length])\n",
    "        \n",
    "        return_meta_information.append(meta_information[i:i+length])\n",
    "        \n",
    "        \n",
    "    return np.array(return_array), np.array(return_meta_information)\n",
    "\n",
    "def load_cdn_data(sequence_length=256):\n",
    "    \n",
    "    aCDN = np.load(\"../data/data.npy\")\n",
    "    anomalyInformation = np.load(\"../data/condInput.npy\")\n",
    "\n",
    "    def sampleAnomalyC(batch_size):\n",
    "        return torch.Tensor(aMetaInformation[np.random.randint(0,aMetaInformation.shape[0],size=batch_size)])\n",
    "    \n",
    "    aData, aMetaInformation = extract_anomal_data(aCDN, anomalyInformation, sequence_length)\n",
    "\n",
    "    return aData, aMetaInformation, sampleAnomalyC"
   ]
  },
  {
   "cell_type": "code",
   "execution_count": 4,
   "metadata": {},
   "outputs": [],
   "source": [
    "aData, aMetaInformation, sampleAnomalyC = load_cdn_data(256)"
   ]
  },
  {
   "cell_type": "code",
   "execution_count": 5,
   "metadata": {},
   "outputs": [
    {
     "name": "stdout",
     "output_type": "stream",
     "text": [
      "aData.shape: (19472, 256, 3)\n",
      "aMetaInformation.shape: (19472, 256, 1)\n"
     ]
    }
   ],
   "source": [
    "print(f\"aData.shape: {aData.shape}\")\n",
    "print(f\"aMetaInformation.shape: {aMetaInformation.shape}\")"
   ]
  },
  {
   "cell_type": "code",
   "execution_count": 6,
   "metadata": {},
   "outputs": [],
   "source": [
    "anomal_model_config = {\n",
    "    \"d_steps\": 1,\n",
    "    \"g_steps\": 3,\n",
    "    \"lr\": 0.0001,\n",
    "    \"wgan\": False,\n",
    "    \"sampleC_fun\": sampleAnomalyC,\n",
    "    \"optim\": \"ADAM\",\n",
    "    \"batch_size\": 256,\n",
    "    \"architecture\": [\"TCN\", \"TCN\"],\n",
    "    \"Generator\": {\n",
    "        \"channels\": 100,\n",
    "        \"num_layers\": 8,\n",
    "        \"kernel_size\": 5,\n",
    "        \"dropout\": 0.25        \n",
    "    },\n",
    "    \"Discriminator\": {\n",
    "        \"channels\": 100,\n",
    "        \"num_layers\": 8,\n",
    "        \"kernel_size\": 5,\n",
    "        \"dropout\": 0.25        \n",
    "    },\n",
    "    \"scale\": True,\n",
    "    \"z_latent_dim\": 3,\n",
    "    \"num_fixed_noises\": 200,\n",
    "    \"patience\": 150\n",
    "}\n",
    "\n",
    "training_data_config = {\n",
    "    \"num_data_points\": 256,\n",
    "    \"z_seq_length\": 256,\n",
    "    \"multi_variates\": 3,\n",
    "    \"num_anomalies\": 0\n",
    "}\n"
   ]
  },
  {
   "cell_type": "code",
   "execution_count": 7,
   "metadata": {},
   "outputs": [],
   "source": [
    "training_data_config = {\n",
    "        \"num_data_points\": 256,\n",
    "        \"z_seq_length\": 256,\n",
    "        \"multi_variates\": 3,\n",
    "        \"num_frequencies\": 4,\n",
    "        \"num_anomalies\": 0\n",
    "}"
   ]
  },
  {
   "cell_type": "code",
   "execution_count": 8,
   "metadata": {},
   "outputs": [
    {
     "name": "stdout",
     "output_type": "stream",
     "text": [
      "Device: cuda:0\n"
     ]
    }
   ],
   "source": [
    "detector_path = \"./\"\n",
    "ad_training_data_config = json.load( open( f\"{detector_path}/training_data_config.json\" ) )\n",
    "ad_tcn_model_config = json.load( open( f\"{detector_path}/model_config.json\" ) )\n",
    "\n",
    "anomalyDetector = AnomalyDetector(ad_training_data_config,ad_tcn_model_config,None)\n",
    "\n",
    "pre_trained_model = torch.load(f\"{detector_path}/best_model.pt\")\n",
    "\n",
    "anomalyDetector.model = pre_trained_model"
   ]
  },
  {
   "cell_type": "code",
   "execution_count": 9,
   "metadata": {},
   "outputs": [],
   "source": [
    "anomalyGAN = AnomalyGAN(training_data_config, anomal_model_config, aData[:1000],aMetaInformation[:1000],anomalyDetector)"
   ]
  },
  {
   "cell_type": "code",
   "execution_count": null,
   "metadata": {},
   "outputs": [
    {
     "name": "stdout",
     "output_type": "stream",
     "text": [
      "cuda:0\n",
      "Starting Training Loop...\n",
      "Epoch 0\n",
      "Using Threshold == 0.018666400715257183\n",
      "Validation loss decreased (inf --> 0.511545).  Saving model ...\n",
      "{'f1': 0.06591064470968742, 'precision': 0.034078386, 'recall': 1.0, 'auc_score': 0.5115445910512857, 'mse': 0.06215404, 'FFT-Difference': 0.010627285146134851}\n",
      "Epoch 1\n"
     ]
    }
   ],
   "source": [
    "anomalyGAN.train(25,use_wandb=False, print_iterations=1,save_path=None)"
   ]
  },
  {
   "cell_type": "code",
   "execution_count": null,
   "metadata": {},
   "outputs": [],
   "source": [
    "anomalyGAN.visualize_training()"
   ]
  },
  {
   "cell_type": "code",
   "execution_count": null,
   "metadata": {},
   "outputs": [],
   "source": []
  }
 ],
 "metadata": {
  "kernelspec": {
   "display_name": "Python 3",
   "language": "python",
   "name": "python3"
  },
  "language_info": {
   "codemirror_mode": {
    "name": "ipython",
    "version": 3
   },
   "file_extension": ".py",
   "mimetype": "text/x-python",
   "name": "python",
   "nbconvert_exporter": "python",
   "pygments_lexer": "ipython3",
   "version": "3.8.0"
  }
 },
 "nbformat": 4,
 "nbformat_minor": 4
}
